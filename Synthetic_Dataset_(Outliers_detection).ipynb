{
  "nbformat": 4,
  "nbformat_minor": 0,
  "metadata": {
    "colab": {
      "provenance": []
    },
    "kernelspec": {
      "name": "python3",
      "display_name": "Python 3"
    },
    "language_info": {
      "name": "python"
    }
  },
  "cells": [
    {
      "cell_type": "code",
      "execution_count": null,
      "metadata": {
        "id": "ajkZN3jk9L-J"
      },
      "outputs": [],
      "source": [
        "import numpy as np\n",
        "import pandas as pd\n",
        "\n",
        "np.random.seed(123)  # For reproducibility\n",
        "\n",
        "# Generate synthetic multivariate dataset with outliers\n",
        "n_samples = 1000  # Number of samples\n",
        "n_features = 5  # Number of features\n",
        "n_outliers = np.random.randint(100, 150)  # Number of outliers\n",
        "mean = np.zeros(n_features)\n",
        "cov = np.identity(n_features)\n",
        "data = np.random.multivariate_normal(mean, cov, n_samples)\n",
        "outliers = np.random.uniform(low=-10, high=10, size=(n_outliers, n_features))\n",
        "data = np.concatenate((data, outliers), axis=0)\n",
        "data = pd.DataFrame(data, columns=[f'Feature_{i+1}' for i in range(n_features)])\n",
        "data.to_csv('synthetic_dataset.csv', index=False)\n"
      ]
    }
  ]
}